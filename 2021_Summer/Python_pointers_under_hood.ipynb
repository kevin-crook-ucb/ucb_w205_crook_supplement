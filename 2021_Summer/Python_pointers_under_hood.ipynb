{
 "cells": [
  {
   "cell_type": "markdown",
   "id": "64ea89f5",
   "metadata": {},
   "source": [
    "### Demonstration that every variable (and attribute) in Python is a pointer to an object\n",
    "\n",
    "Python has a very unique and ingenious way to allow us to use pointers without having to know how to use pointers.  \n",
    "\n",
    "\n",
    "Essentially, every variable (also every attribute) appears to be an object, but under the hood, it's actually a pointer to an object, with Python handing the pointers for us.\n",
    "\n",
    "\n",
    "If we have a variable x, we can actually get the pointer value by calling id(x)\n",
    "\n",
    "\n",
    "Why do we need this?  Because we often use the stack to save state.  Especially in AI like machine learning and deep learning. Python puts pointers on the stack instead of objects on the stack.  This saves a ton of space on the stack.  If Python put objects on the stack instead of pointers, it would it impossible to write most AI algorithms using Python."
   ]
  },
  {
   "cell_type": "code",
   "execution_count": 1,
   "id": "b0860a71",
   "metadata": {},
   "outputs": [],
   "source": [
    "# create a simple list\n",
    "\n",
    "my_list_1 = [1, 2, 3]"
   ]
  },
  {
   "cell_type": "code",
   "execution_count": 2,
   "id": "d042a297",
   "metadata": {},
   "outputs": [
    {
     "data": {
      "text/plain": [
       "[1, 2, 3]"
      ]
     },
     "execution_count": 2,
     "metadata": {},
     "output_type": "execute_result"
    }
   ],
   "source": [
    "# check the value of the first list\n",
    "\n",
    "my_list_1"
   ]
  },
  {
   "cell_type": "code",
   "execution_count": 3,
   "id": "4af8303a",
   "metadata": {},
   "outputs": [
    {
     "data": {
      "text/plain": [
       "140578669600592"
      ]
     },
     "execution_count": 3,
     "metadata": {},
     "output_type": "execute_result"
    }
   ],
   "source": [
    "# first list's pointer address value\n",
    "\n",
    "id(my_list_1)"
   ]
  },
  {
   "cell_type": "code",
   "execution_count": 4,
   "id": "890cd99c",
   "metadata": {},
   "outputs": [],
   "source": [
    "# create a second list from the first list\n",
    "# only the pointer is copied\n",
    "\n",
    "my_list_2 = my_list_1"
   ]
  },
  {
   "cell_type": "code",
   "execution_count": 5,
   "id": "2a11d7c2",
   "metadata": {},
   "outputs": [
    {
     "data": {
      "text/plain": [
       "[1, 2, 3]"
      ]
     },
     "execution_count": 5,
     "metadata": {},
     "output_type": "execute_result"
    }
   ],
   "source": [
    "# second list looks the save as the first list\n",
    "\n",
    "my_list_2"
   ]
  },
  {
   "cell_type": "code",
   "execution_count": 6,
   "id": "9a6ebaa3",
   "metadata": {},
   "outputs": [
    {
     "data": {
      "text/plain": [
       "140578669600592"
      ]
     },
     "execution_count": 6,
     "metadata": {},
     "output_type": "execute_result"
    }
   ],
   "source": [
    "# verify second list's pointer value is same as first list's\n",
    "# compare this pointer value to the one above\n",
    "\n",
    "id(my_list_2)"
   ]
  },
  {
   "cell_type": "code",
   "execution_count": 7,
   "id": "788302dc",
   "metadata": {},
   "outputs": [],
   "source": [
    "# modify the first list\n",
    "\n",
    "my_list_1.append(4)"
   ]
  },
  {
   "cell_type": "code",
   "execution_count": 8,
   "id": "4ae68441",
   "metadata": {},
   "outputs": [
    {
     "data": {
      "text/plain": [
       "[1, 2, 3, 4]"
      ]
     },
     "execution_count": 8,
     "metadata": {},
     "output_type": "execute_result"
    }
   ],
   "source": [
    "# verify the modification to the first list\n",
    "\n",
    "my_list_1"
   ]
  },
  {
   "cell_type": "code",
   "execution_count": 9,
   "id": "4435d144",
   "metadata": {},
   "outputs": [
    {
     "data": {
      "text/plain": [
       "140578669600592"
      ]
     },
     "execution_count": 9,
     "metadata": {},
     "output_type": "execute_result"
    }
   ],
   "source": [
    "# verify first list's pointer has NOT changed\n",
    "\n",
    "id(my_list_1)"
   ]
  },
  {
   "cell_type": "code",
   "execution_count": 10,
   "id": "e0979b85",
   "metadata": {},
   "outputs": [
    {
     "data": {
      "text/plain": [
       "[1, 2, 3, 4]"
      ]
     },
     "execution_count": 10,
     "metadata": {},
     "output_type": "execute_result"
    }
   ],
   "source": [
    "# check the value of the second list\n",
    "# since it's a pointer and not a copy, \n",
    "# the second list shows the new value\n",
    "\n",
    "my_list_2"
   ]
  },
  {
   "cell_type": "code",
   "execution_count": 11,
   "id": "c56e26ca",
   "metadata": {},
   "outputs": [
    {
     "data": {
      "text/plain": [
       "140578669600592"
      ]
     },
     "execution_count": 11,
     "metadata": {},
     "output_type": "execute_result"
    }
   ],
   "source": [
    "# verify that the second list's pointer still matches the first list's pointer\n",
    "\n",
    "id(my_list_2)"
   ]
  },
  {
   "cell_type": "markdown",
   "id": "b5fd4e2c",
   "metadata": {},
   "source": [
    "#### Now let's make an actual copy of the list to see how this works"
   ]
  },
  {
   "cell_type": "code",
   "execution_count": 12,
   "id": "eb4327cf",
   "metadata": {},
   "outputs": [],
   "source": [
    "# third list will be an actual copy of the first list\n",
    "\n",
    "my_list_3 = list(my_list_1)"
   ]
  },
  {
   "cell_type": "code",
   "execution_count": 13,
   "id": "32a662fa",
   "metadata": {},
   "outputs": [
    {
     "data": {
      "text/plain": [
       "[1, 2, 3, 4]"
      ]
     },
     "execution_count": 13,
     "metadata": {},
     "output_type": "execute_result"
    }
   ],
   "source": [
    "# third list value is the same as the first list value\n",
    "\n",
    "my_list_3"
   ]
  },
  {
   "cell_type": "code",
   "execution_count": 14,
   "id": "bee8aba0",
   "metadata": {},
   "outputs": [
    {
     "data": {
      "text/plain": [
       "140578669551360"
      ]
     },
     "execution_count": 14,
     "metadata": {},
     "output_type": "execute_result"
    }
   ],
   "source": [
    "# however the third list's pointer address is different\n",
    "# it's an actual copy and not just a pointer copy\n",
    "\n",
    "id(my_list_3)"
   ]
  },
  {
   "cell_type": "code",
   "execution_count": 15,
   "id": "e629584f",
   "metadata": {},
   "outputs": [],
   "source": [
    "# modify first list\n",
    "\n",
    "my_list_1.append(5)"
   ]
  },
  {
   "cell_type": "code",
   "execution_count": 16,
   "id": "f9cf84c3",
   "metadata": {},
   "outputs": [
    {
     "data": {
      "text/plain": [
       "[1, 2, 3, 4, 5]"
      ]
     },
     "execution_count": 16,
     "metadata": {},
     "output_type": "execute_result"
    }
   ],
   "source": [
    "# verify first list's value is updated\n",
    "\n",
    "my_list_1"
   ]
  },
  {
   "cell_type": "code",
   "execution_count": 17,
   "id": "3bce4261",
   "metadata": {},
   "outputs": [
    {
     "data": {
      "text/plain": [
       "[1, 2, 3, 4]"
      ]
     },
     "execution_count": 17,
     "metadata": {},
     "output_type": "execute_result"
    }
   ],
   "source": [
    "# verify that the third list's value is unchanged\n",
    "\n",
    "my_list_3"
   ]
  },
  {
   "cell_type": "code",
   "execution_count": null,
   "id": "7cfaf080",
   "metadata": {},
   "outputs": [],
   "source": []
  }
 ],
 "metadata": {
  "environment": {
   "name": "common-cpu.m65",
   "type": "gcloud",
   "uri": "gcr.io/deeplearning-platform-release/base-cpu:m65"
  },
  "kernelspec": {
   "display_name": "Python 3",
   "language": "python",
   "name": "python3"
  },
  "language_info": {
   "codemirror_mode": {
    "name": "ipython",
    "version": 3
   },
   "file_extension": ".py",
   "mimetype": "text/x-python",
   "name": "python",
   "nbconvert_exporter": "python",
   "pygments_lexer": "ipython3",
   "version": "3.7.10"
  }
 },
 "nbformat": 4,
 "nbformat_minor": 5
}
