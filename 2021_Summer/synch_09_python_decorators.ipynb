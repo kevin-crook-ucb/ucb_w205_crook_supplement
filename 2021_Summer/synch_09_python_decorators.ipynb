{
 "cells": [
  {
   "cell_type": "markdown",
   "metadata": {},
   "source": [
    "### Python Decorator Examples\n",
    "\n",
    "Decorators take a function and return another function, making use of:\n",
    "* \\*args (positional arguments) and \\*\\*kwargs (keyword arguments)\n",
    "* inner functions\n",
    "* functions as arguments"
   ]
  },
  {
   "cell_type": "markdown",
   "metadata": {},
   "source": [
    "#### Manually creating a decorator for a simple funciton without the @ syntax to see how it works"
   ]
  },
  {
   "cell_type": "code",
   "execution_count": 1,
   "metadata": {
    "collapsed": true
   },
   "outputs": [],
   "source": [
    "def my_decorator(my_function_passed_as_parameter):\n",
    "    \n",
    "    def my_inner_function(*args, **kwargs):\n",
    "        \n",
    "        print(\"Function passed as argument to my_decorator:\", \n",
    "              my_function_passed_as_parameter.__name__ + \"()\" )\n",
    "        print(\"Positional arguments (*args):\", args)\n",
    "        print(\"Keyword arguments (**kwards):\", kwargs)\n",
    "        \n",
    "        return my_function_passed_as_parameter(*args, **kwargs)\n",
    "    \n",
    "    return my_inner_function"
   ]
  },
  {
   "cell_type": "code",
   "execution_count": 2,
   "metadata": {
    "collapsed": true
   },
   "outputs": [],
   "source": [
    "def my_function_to_add_two_numbers(a, b):\n",
    "    return a + b"
   ]
  },
  {
   "cell_type": "code",
   "execution_count": 3,
   "metadata": {
    "collapsed": false
   },
   "outputs": [
    {
     "data": {
      "text/plain": [
       "12"
      ]
     },
     "execution_count": 3,
     "metadata": {},
     "output_type": "execute_result"
    }
   ],
   "source": [
    "my_function_to_add_two_numbers(5, 7)"
   ]
  },
  {
   "cell_type": "code",
   "execution_count": 4,
   "metadata": {
    "collapsed": false
   },
   "outputs": [],
   "source": [
    "my_decorated_function = my_decorator(my_function_to_add_two_numbers)"
   ]
  },
  {
   "cell_type": "code",
   "execution_count": 5,
   "metadata": {
    "collapsed": false
   },
   "outputs": [
    {
     "name": "stdout",
     "output_type": "stream",
     "text": [
      "Function passed as argument to my_decorator: my_function_to_add_two_numbers()\n",
      "Positional arguments (*args): (5, 7)\n",
      "Keyword arguments (**kwards): {}\n"
     ]
    },
    {
     "data": {
      "text/plain": [
       "12"
      ]
     },
     "execution_count": 5,
     "metadata": {},
     "output_type": "execute_result"
    }
   ],
   "source": [
    "my_decorated_function(5,7)"
   ]
  },
  {
   "cell_type": "markdown",
   "metadata": {},
   "source": [
    "#### Creating a decorator for a simple function using the @ syntax\n"
   ]
  },
  {
   "cell_type": "code",
   "execution_count": 6,
   "metadata": {
    "collapsed": true
   },
   "outputs": [],
   "source": [
    "@my_decorator\n",
    "def my_function_to_add_two_numbers(a, b):\n",
    "    return a + b"
   ]
  },
  {
   "cell_type": "code",
   "execution_count": 7,
   "metadata": {
    "collapsed": false
   },
   "outputs": [
    {
     "name": "stdout",
     "output_type": "stream",
     "text": [
      "Function passed as argument to my_decorator: my_function_to_add_two_numbers()\n",
      "Positional arguments (*args): (5, 7)\n",
      "Keyword arguments (**kwards): {}\n"
     ]
    },
    {
     "data": {
      "text/plain": [
       "12"
      ]
     },
     "execution_count": 7,
     "metadata": {},
     "output_type": "execute_result"
    }
   ],
   "source": [
    "my_function_to_add_two_numbers(5, 7)"
   ]
  },
  {
   "cell_type": "markdown",
   "metadata": {},
   "source": [
    "#### Creating a decorator that is a method of a class"
   ]
  },
  {
   "cell_type": "code",
   "execution_count": 8,
   "metadata": {
    "collapsed": false
   },
   "outputs": [],
   "source": [
    "class my_class():\n",
    "    \n",
    "    def my_class_decorator_method(self, my_function_passed_as_parameter):\n",
    "        \n",
    "        def my_class_decorator_method_inner_function(*args, **kwargs):\n",
    "            \n",
    "            print(\"my_class: Function passed as argument to my_decorator:\", \n",
    "                  my_function_passed_as_parameter.__name__ + \"()\" )\n",
    "            print(\"my_class: Positional arguments (*args):\", args)\n",
    "            print(\"my_class: Keyword arguments (**kwards):\", kwargs)\n",
    "            \n",
    "            return my_function_passed_as_parameter(*args, **kwargs)\n",
    "        \n",
    "        return my_class_decorator_method_inner_function"
   ]
  },
  {
   "cell_type": "code",
   "execution_count": 9,
   "metadata": {
    "collapsed": true
   },
   "outputs": [],
   "source": [
    "my_object = my_class()"
   ]
  },
  {
   "cell_type": "code",
   "execution_count": 10,
   "metadata": {
    "collapsed": false
   },
   "outputs": [],
   "source": [
    "@my_object.my_class_decorator_method\n",
    "def my_function_to_add_two_numbers(a, b):\n",
    "    return a + b"
   ]
  },
  {
   "cell_type": "code",
   "execution_count": 11,
   "metadata": {
    "collapsed": false
   },
   "outputs": [
    {
     "name": "stdout",
     "output_type": "stream",
     "text": [
      "my_class: Function passed as argument to my_decorator: my_function_to_add_two_numbers()\n",
      "my_class: Positional arguments (*args): (5, 7)\n",
      "my_class: Keyword arguments (**kwards): {}\n"
     ]
    },
    {
     "data": {
      "text/plain": [
       "12"
      ]
     },
     "execution_count": 11,
     "metadata": {},
     "output_type": "execute_result"
    }
   ],
   "source": [
    "my_function_to_add_two_numbers(5,7)"
   ]
  },
  {
   "cell_type": "markdown",
   "metadata": {},
   "source": [
    "#### A \"decorator maker\" example where the decorator maker is a simple function  \n"
   ]
  },
  {
   "cell_type": "code",
   "execution_count": 12,
   "metadata": {
    "collapsed": false
   },
   "outputs": [],
   "source": [
    "def my_decorator_maker(my_argument_string_1, my_argument_string_2):\n",
    "    \n",
    "    def my_decorator(my_function_passed_as_parameter):\n",
    "        \n",
    "        print(\"Making a decorated function for \", \n",
    "              my_function_passed_as_parameter.__name__, \n",
    "              \" using strings\", \n",
    "             my_argument_string_1, my_argument_string_2)\n",
    "        \n",
    "        def my_decorated_function(*args, **kwargs):\n",
    "            \n",
    "            print(\"Function passed as argument:\", \n",
    "                  my_function_passed_as_parameter.__name__ + \"()\" )\n",
    "            print(\"Positional arguments (*args):\", args)\n",
    "            print(\"Keyword arguments (**kwards):\", kwargs)\n",
    "            \n",
    "            return my_function_passed_as_parameter(*args, **kwargs)\n",
    "        \n",
    "        return my_decorated_function\n",
    "    \n",
    "    return my_decorator\n"
   ]
  },
  {
   "cell_type": "code",
   "execution_count": 13,
   "metadata": {
    "collapsed": true
   },
   "outputs": [],
   "source": [
    "def my_function_to_add_two_numbers(a, b):\n",
    "    return a + b"
   ]
  },
  {
   "cell_type": "code",
   "execution_count": 14,
   "metadata": {
    "collapsed": false
   },
   "outputs": [
    {
     "data": {
      "text/plain": [
       "12"
      ]
     },
     "execution_count": 14,
     "metadata": {},
     "output_type": "execute_result"
    }
   ],
   "source": [
    "my_function_to_add_two_numbers(5, 7)"
   ]
  },
  {
   "cell_type": "markdown",
   "metadata": {},
   "source": [
    "As we did before, let's manually create the decorated function first without the @ syntax"
   ]
  },
  {
   "cell_type": "code",
   "execution_count": 15,
   "metadata": {
    "collapsed": false
   },
   "outputs": [
    {
     "name": "stdout",
     "output_type": "stream",
     "text": [
      "Making a decorated function for  my_function_to_add_two_numbers  using strings string_a string_b\n"
     ]
    }
   ],
   "source": [
    "my_decorated_function = my_decorator_maker(\"string_a\", \"string_b\")(my_function_to_add_two_numbers)"
   ]
  },
  {
   "cell_type": "code",
   "execution_count": 16,
   "metadata": {
    "collapsed": false
   },
   "outputs": [
    {
     "name": "stdout",
     "output_type": "stream",
     "text": [
      "Function passed as argument: my_function_to_add_two_numbers()\n",
      "Positional arguments (*args): (5, 7)\n",
      "Keyword arguments (**kwards): {}\n"
     ]
    },
    {
     "data": {
      "text/plain": [
       "12"
      ]
     },
     "execution_count": 16,
     "metadata": {},
     "output_type": "execute_result"
    }
   ],
   "source": [
    "my_decorated_function(5,7)"
   ]
  },
  {
   "cell_type": "markdown",
   "metadata": {},
   "source": [
    "Let's now repeat using the @ syntax"
   ]
  },
  {
   "cell_type": "code",
   "execution_count": 17,
   "metadata": {
    "collapsed": false
   },
   "outputs": [
    {
     "name": "stdout",
     "output_type": "stream",
     "text": [
      "Making a decorated function for  my_function_to_add_two_numbers  using strings string_a string_b\n"
     ]
    }
   ],
   "source": [
    "@my_decorator_maker(\"string_a\", \"string_b\")\n",
    "def my_function_to_add_two_numbers(a, b):\n",
    "    return a + b"
   ]
  },
  {
   "cell_type": "code",
   "execution_count": 18,
   "metadata": {
    "collapsed": false
   },
   "outputs": [
    {
     "name": "stdout",
     "output_type": "stream",
     "text": [
      "Function passed as argument: my_function_to_add_two_numbers()\n",
      "Positional arguments (*args): (5, 7)\n",
      "Keyword arguments (**kwards): {}\n"
     ]
    },
    {
     "data": {
      "text/plain": [
       "12"
      ]
     },
     "execution_count": 18,
     "metadata": {},
     "output_type": "execute_result"
    }
   ],
   "source": [
    "my_function_to_add_two_numbers(5, 7)"
   ]
  },
  {
   "cell_type": "markdown",
   "metadata": {},
   "source": [
    "#### Flask() uses a decorator maker that is a method to a class\n",
    "\n",
    "Here is the relevant source code pulled out from our synchronous sessions:\n",
    "\n",
    "```python\n",
    "from flask import Flask\n",
    "\n",
    "app = Flask(__name__)\n",
    "\n",
    "@app.route(\"/\")\n",
    "def default_response():\n",
    "    event_logger.send(events_topic, 'default'.encode())\n",
    "    return \"\\nThis is the default response!\\n\"\n",
    "```\n",
    "\n",
    "* app is a variable holding a pointer to an object of class Flask\n",
    "* route() is a method in class Flash that is used as a \"decorator maker\" \n",
    "* note that route() is passed a string parameter\n",
    "* default_response() is the function being decorated\n",
    "\n",
    "Here is a link to the Flash GitHub repo containing the source code:\n",
    "https://github.com/pallets/flask\n",
    "\n",
    "The relevant source code for app.py:\n",
    "https://github.com/pallets/flask/blob/master/flask/app.py\n",
    "\n",
    "The relevant source code pulled out for convenience:\n",
    "\n",
    "\n",
    "```python\n",
    "class Flask(_PackageBoundObject):\n",
    "\n",
    "    def route(self, rule, **options):\n",
    "\n",
    "        def decorator(f):\n",
    "            \n",
    "            endpoint = options.pop('endpoint', None)\n",
    "            self.add_url_rule(rule, endpoint, f, **options)\n",
    "            \n",
    "            return f\n",
    "            \n",
    "        return decorator\n",
    "```\n"
   ]
  },
  {
   "cell_type": "code",
   "execution_count": null,
   "metadata": {
    "collapsed": true
   },
   "outputs": [],
   "source": []
  }
 ],
 "metadata": {
  "kernelspec": {
   "display_name": "Python 3",
   "language": "python",
   "name": "python3"
  },
  "language_info": {
   "codemirror_mode": {
    "name": "ipython",
    "version": 3
   },
   "file_extension": ".py",
   "mimetype": "text/x-python",
   "name": "python",
   "nbconvert_exporter": "python",
   "pygments_lexer": "ipython3",
   "version": "3.6.0"
  }
 },
 "nbformat": 4,
 "nbformat_minor": 2
}
